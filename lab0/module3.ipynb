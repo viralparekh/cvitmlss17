{
 "cells": [
  {
   "cell_type": "code",
   "execution_count": null,
   "metadata": {
    "collapsed": true
   },
   "outputs": [],
   "source": [
    "%matplotlib inline"
   ]
  },
  {
   "cell_type": "markdown",
   "metadata": {},
   "source": [
    "# Multi Layer Perceptron\n",
    "\n",
    "An MultiLayer Perceptron with a single hidden layer can be represented graphically as follows:\n",
    "\n",
    "\n",
    "\n",
    "![title](../data/lab0/mlp.png)\n",
    "\n",
    "Above Neural network consists of:\n",
    "\n",
    "Number of neurons in input layer: 2\n",
    "\n",
    "Number of neurons in hidden layer:50\n",
    "\n",
    "Number of neurons in ouput layer:1"
   ]
  },
  {
   "cell_type": "code",
   "execution_count": 1,
   "metadata": {
    "collapsed": true
   },
   "outputs": [],
   "source": [
    "import numpy as np\n",
    "import torch\n",
    "import torch.nn as nn\n",
    "import torch.nn.functional as F\t\n",
    "import torch.optim as optim\n",
    "from torch.autograd import Variable\n",
    "\n",
    "import matplotlib.pyplot as plt"
   ]
  },
  {
   "cell_type": "code",
   "execution_count": 2,
   "metadata": {},
   "outputs": [
    {
     "name": "stdout",
     "output_type": "stream",
     "text": [
      "Net (\n",
      "  (fc1): Linear (2 -> 10)\n",
      "  (fc2): Linear (10 -> 1)\n",
      "  (rl1): ReLU ()\n",
      "  (rl2): ReLU ()\n",
      ")\n"
     ]
    }
   ],
   "source": [
    "class Net(nn.Module):\n",
    "    def __init__(self):\n",
    "        super(Net, self).__init__()\n",
    "        self.fc1 = nn.Linear(2, 10) # 2 Input noses, 50 in middle layers\n",
    "        self.fc2 = nn.Linear(10, 1) # 50 middle layer, 1 output nodes\n",
    "        self.rl1 = nn.ReLU()\n",
    "        self.rl2 = nn.ReLU()\n",
    "\n",
    "    def forward(self, x):\n",
    "        x = self.fc1(x)\n",
    "        x = self.rl1(x)\n",
    "        x = self.fc2(x)\n",
    "        x = self.rl2(x)\n",
    "        return x\n",
    "\n",
    "if __name__ == \"__main__\":\n",
    "    ## Create Network\n",
    "\n",
    "    net = Net()\n",
    "    print net\n"
   ]
  },
  {
   "cell_type": "markdown",
   "metadata": {},
   "source": []
  },
  {
   "cell_type": "code",
   "execution_count": null,
   "metadata": {},
   "outputs": [],
   "source": [
    "\n",
    "## Optimization and Loss\n",
    "\n",
    "criterion = nn.MSELoss()\n",
    "\n",
    "optimizer = optim.SGD(net.parameters(), lr=0.001, momentum=0.1)\n",
    "\n",
    "trainingdataX = [[[0.01, 0.01], [0.01, 0.90], [0.90, 0.01], [0.95, 0.95]], [[0.02, 0.03], [0.04, 0.95], [0.97, 0.02], [0.96, 0.95]]]\n",
    "trainingdataY = [[[0.01], [0.90], [0.90], [0.01]], [[0.04], [0.97], [0.98], [0.1]]]\n",
    " \n",
    "NumEpoches = 200\n",
    "    \n",
    "for epoch in range(NumEpoches):\n",
    "    running_loss = 0.0\n",
    "    print \"epoch[%d]\"%epoch\n",
    "    for i, data in enumerate(trainingdataX, 0):\n",
    "        #print i\n",
    "        inputs = data\n",
    "        labels = trainingdataY[i]\n",
    "        inputs = Variable(torch.FloatTensor(inputs))\n",
    "        labels = Variable(torch.FloatTensor(labels))\n",
    "        optimizer.zero_grad()\n",
    "        outputs = net(inputs)\n",
    "        loss = criterion(outputs, labels)\n",
    "        loss.backward()        \n",
    "        optimizer.step()\n",
    "        running_loss += loss.data[0]\n",
    "        print \"loss: \", running_loss\n",
    "         "
   ]
  },
  {
   "cell_type": "code",
   "execution_count": null,
   "metadata": {
    "scrolled": true
   },
   "outputs": [],
   "source": [
    "print \"Finished training...\"\n",
    "print net(Variable(torch.FloatTensor(trainingdataX[0])))\n",
    "print net(Variable(torch.FloatTensor(trainingdataX[1])))"
   ]
  },
  {
   "cell_type": "code",
   "execution_count": null,
   "metadata": {
    "collapsed": true
   },
   "outputs": [],
   "source": []
  },
  {
   "cell_type": "code",
   "execution_count": null,
   "metadata": {
    "collapsed": true
   },
   "outputs": [],
   "source": []
  },
  {
   "cell_type": "code",
   "execution_count": null,
   "metadata": {
    "collapsed": true
   },
   "outputs": [],
   "source": []
  },
  {
   "cell_type": "code",
   "execution_count": null,
   "metadata": {
    "collapsed": true
   },
   "outputs": [],
   "source": []
  }
 ],
 "metadata": {
  "kernelspec": {
   "display_name": "Python 2",
   "language": "python",
   "name": "python2"
  },
  "language_info": {
   "codemirror_mode": {
    "name": "ipython",
    "version": 2
   },
   "file_extension": ".py",
   "mimetype": "text/x-python",
   "name": "python",
   "nbconvert_exporter": "python",
   "pygments_lexer": "ipython2",
   "version": "2.7.12"
  }
 },
 "nbformat": 4,
 "nbformat_minor": 2
}
