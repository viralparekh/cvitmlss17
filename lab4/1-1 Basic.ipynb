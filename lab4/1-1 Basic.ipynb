{
 "cells": [
  {
   "cell_type": "markdown",
   "metadata": {},
   "source": [
    "# Q-Table Learning"
   ]
  },
  {
   "cell_type": "code",
   "execution_count": 1,
   "metadata": {
    "collapsed": true
   },
   "outputs": [],
   "source": [
    "import gym\n",
    "import numpy as np\n",
    "import torch"
   ]
  },
  {
   "cell_type": "code",
   "execution_count": 2,
   "metadata": {},
   "outputs": [
    {
     "name": "stderr",
     "output_type": "stream",
     "text": [
      "[2017-07-04 11:02:57,907] Making new env: FrozenLake-v0\n"
     ]
    }
   ],
   "source": [
    "env = gym.make('FrozenLake-v0')"
   ]
  },
  {
   "cell_type": "code",
   "execution_count": 3,
   "metadata": {},
   "outputs": [
    {
     "name": "stdout",
     "output_type": "stream",
     "text": [
      "2.7295751571655273\n"
     ]
    }
   ],
   "source": [
    "import time\n",
    "start_time = time.time()\n",
    "Q_th = torch.zeros([env.observation_space.n, env.action_space.n])\n",
    "lr = 0.8\n",
    "y = 0.95\n",
    "num_episode = 2000\n",
    "\n",
    "rList = []\n",
    "for i in range(num_episode):\n",
    "    s = env.reset()\n",
    "    rAll = 0\n",
    "    d = False\n",
    "    j = 0\n",
    "    \n",
    "    while j < 99:\n",
    "        j += 1\n",
    "        aa_th = Q_th[s,:] + torch.randn(1, env.action_space.n)*(1./(i+1))\n",
    "        _, a_th = torch.max(aa_th, 0)\n",
    "        s1, r, d, _ = env.step(a_th[0])        \n",
    "        update = r + y*torch.max(Q_th[s1,:]) - Q_th[s, a_th[0]]\n",
    "        Q_th[s, a_th[0]] = Q_th[s, a_th[0]] + lr*(update)\n",
    "        rAll += r\n",
    "        s = s1\n",
    "        if d == True:\n",
    "            break\n",
    "        rList.append(rAll)\n",
    "print(time.time() - start_time)        "
   ]
  },
  {
   "cell_type": "code",
   "execution_count": 4,
   "metadata": {
    "scrolled": true
   },
   "outputs": [
    {
     "name": "stdout",
     "output_type": "stream",
     "text": [
      "Score over time: 0.0\n",
      "0.0016820430755615234\n"
     ]
    }
   ],
   "source": [
    "start_time = time.time()\n",
    "print(\"Score over time: \" + str(sum(rList)/num_episode))\n",
    "print(time.time() - start_time)"
   ]
  },
  {
   "cell_type": "code",
   "execution_count": 5,
   "metadata": {
    "scrolled": true
   },
   "outputs": [
    {
     "name": "stdout",
     "output_type": "stream",
     "text": [
      "Final Q-table values\n",
      "\n",
      " 0.2926  0.0099  0.0121  0.0087\n",
      " 0.0015  0.0019  0.0016  0.1620\n",
      " 0.0051  0.1372  0.0043  0.0085\n",
      " 0.0000  0.0003  0.0011  0.1012\n",
      " 0.3048  0.0026  0.0003  0.0019\n",
      " 0.0000  0.0000  0.0000  0.0000\n",
      " 0.0303  0.0000  0.0005  0.0001\n",
      " 0.0000  0.0000  0.0000  0.0000\n",
      " 0.0016  0.0002  0.0018  0.2607\n",
      " 0.0000  0.6008  0.0018  0.0030\n",
      " 0.5149  0.0005  0.0019  0.0006\n",
      " 0.0000  0.0000  0.0000  0.0000\n",
      " 0.0000  0.0000  0.0000  0.0000\n",
      " 0.0000  0.0000  0.8502  0.0000\n",
      " 0.0000  0.9901  0.0000  0.0000\n",
      " 0.0000  0.0000  0.0000  0.0000\n",
      "[torch.FloatTensor of size 16x4]\n",
      "\n"
     ]
    }
   ],
   "source": [
    "print('Final Q-table values')\n",
    "print(Q_th)"
   ]
  },
  {
   "cell_type": "code",
   "execution_count": null,
   "metadata": {
    "collapsed": true
   },
   "outputs": [],
   "source": []
  }
 ],
 "metadata": {
  "kernelspec": {
   "display_name": "Python [conda root]",
   "language": "python",
   "name": "conda-root-py"
  },
  "language_info": {
   "codemirror_mode": {
    "name": "ipython",
    "version": 3
   },
   "file_extension": ".py",
   "mimetype": "text/x-python",
   "name": "python",
   "nbconvert_exporter": "python",
   "pygments_lexer": "ipython3",
   "version": "3.6.1"
  }
 },
 "nbformat": 4,
 "nbformat_minor": 2
}
