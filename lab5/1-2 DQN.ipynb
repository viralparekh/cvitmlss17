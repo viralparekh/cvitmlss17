{
 "cells": [
  {
   "cell_type": "markdown",
   "metadata": {},
   "source": [
    "### Imports"
   ]
  },
  {
   "cell_type": "code",
   "execution_count": 1,
   "metadata": {
    "collapsed": true
   },
   "outputs": [],
   "source": [
    "import sys\n",
    "import pickle\n",
    "import numpy as np\n",
    "from collections import namedtuple\n",
    "from itertools import count\n",
    "import random\n",
    "\n",
    "import gym\n",
    "import gym.spaces\n",
    "\n",
    "import torch\n",
    "import torch.nn as nn\n",
    "import torch.optim as optim\n",
    "import torch.nn.functional as F\n",
    "import torch.autograd as autograd\n",
    "\n",
    "from utils.replay_buffer import ReplayBuffer\n",
    "from utils.gym import get_env, get_wrapper_by_name\n",
    "from utils.schedule import ConstantSchedule, PiecewiseSchedule, LinearSchedule\n",
    "\n",
    "import matplotlib.pyplot as plt\n",
    "%matplotlib inline"
   ]
  },
  {
   "cell_type": "markdown",
   "metadata": {},
   "source": [
    "### Define global variables"
   ]
  },
  {
   "cell_type": "code",
   "execution_count": 2,
   "metadata": {
    "collapsed": true
   },
   "outputs": [],
   "source": [
    "BATCH_SIZE = 32\n",
    "GAMMA = 0.99\n",
    "REPLAY_BUFFER_SIZE = 1000000\n",
    "LEARNING_STARTS = 50000\n",
    "LEARNING_FREQ = 4\n",
    "FRAME_HISTORY_LEN = 4\n",
    "TARGET_UPDATE_FREQ = 10000\n",
    "LEARNING_RATE = 0.00025\n",
    "ALPHA = 0.95\n",
    "EPS = 0.01\n",
    "PONG = 3\n",
    "\n",
    "USE_CUDA = torch.cuda.is_available()\n",
    "dtype = torch.cuda.FloatTensor if torch.cuda.is_available() else torch.FloatTensor\n",
    "\n",
    "class Variable(autograd.Variable):\n",
    "    def __init__(self, data, *args, **kwargs):\n",
    "        if USE_CUDA:\n",
    "            data = data.cuda()\n",
    "        super(Variable, self).__init__(data, *args, **kwargs)\n",
    "\n",
    "\"\"\"\n",
    "    OptimizerSpec containing following attributes\n",
    "        constructor: The optimizer constructor ex: RMSprop\n",
    "        kwargs: {Dict} arguments for constructing optimizer\n",
    "\"\"\"\n",
    "OptimizerSpec = namedtuple(\"OptimizerSpec\", [\"constructor\", \"kwargs\"])\n",
    "\n",
    "Statistic = {\n",
    "    \"mean_episode_rewards\": [],\n",
    "    \"best_mean_episode_rewards\": []\n",
    "}\n"
   ]
  },
  {
   "cell_type": "markdown",
   "metadata": {},
   "source": [
    "### Define Deep Q Network"
   ]
  },
  {
   "cell_type": "code",
   "execution_count": 3,
   "metadata": {
    "collapsed": true
   },
   "outputs": [],
   "source": [
    "class DQN(nn.Module):\n",
    "    def __init__(self, in_channels=4, num_actions=18):\n",
    "        \"\"\"\n",
    "        Initialize a deep Q-learning network as described in\n",
    "        https://storage.googleapis.com/deepmind-data/assets/papers/DeepMindNature14236Paper.pdf\n",
    "        Arguments:\n",
    "            in_channels: number of channel of input.\n",
    "                i.e The number of most recent frames stacked together as describe in the paper\n",
    "            num_actions: number of action-value to output, one-to-one correspondence to action in game.\n",
    "        \"\"\"\n",
    "        super(DQN, self).__init__()\n",
    "        self.conv1 = nn.Conv2d(in_channels, 32, kernel_size=8, stride=4)\n",
    "        self.conv2 = nn.Conv2d(32, 64, kernel_size=4, stride=2)\n",
    "        self.conv3 = nn.Conv2d(64, 64, kernel_size=3, stride=1)\n",
    "        self.fc4 = nn.Linear(7 * 7 * 64, 512)\n",
    "        self.fc5 = nn.Linear(512, num_actions)\n",
    "\n",
    "    def forward(self, x):\n",
    "        x = F.relu(self.conv1(x))\n",
    "        x = F.relu(self.conv2(x))\n",
    "        x = F.relu(self.conv3(x))\n",
    "        x = F.relu(self.fc4(x.view(x.size(0), -1)))\n",
    "        return self.fc5(x)\n"
   ]
  },
  {
   "cell_type": "markdown",
   "metadata": {},
   "source": [
    "### Training Function"
   ]
  },
  {
   "cell_type": "code",
   "execution_count": 4,
   "metadata": {
    "collapsed": true
   },
   "outputs": [],
   "source": [
    "def dqn_learing(\n",
    "    env,\n",
    "    q_func,\n",
    "    optimizer_spec,\n",
    "    exploration,\n",
    "    stopping_criterion=None,\n",
    "    replay_buffer_size=1000000,\n",
    "    batch_size=32,\n",
    "    gamma=0.99,\n",
    "    learning_starts=50000,\n",
    "    learning_freq=4,\n",
    "    frame_history_len=4,\n",
    "    target_update_freq=10000\n",
    "    ):\n",
    "\n",
    "    \"\"\"Run Deep Q-learning algorithm.\n",
    "\n",
    "    You can specify your own convnet using q_func.\n",
    "\n",
    "    All schedules are w.r.t. total number of steps taken in the environment.\n",
    "\n",
    "    Parameters\n",
    "    ----------\n",
    "    env: gym.Env\n",
    "        gym environment to train on.\n",
    "    q_func: function\n",
    "        Model to use for computing the q function. It should accept the\n",
    "        following named arguments:\n",
    "            input_channel: int\n",
    "                number of channel of input.\n",
    "            num_actions: int\n",
    "                number of actions\n",
    "    optimizer_spec: OptimizerSpec\n",
    "        Specifying the constructor and kwargs, as well as learning rate schedule\n",
    "        for the optimizer\n",
    "    exploration: Schedule (defined in utils.schedule)\n",
    "        schedule for probability of chosing random action.\n",
    "    stopping_criterion: (env) -> bool\n",
    "        should return true when it's ok for the RL algorithm to stop.\n",
    "        takes in env and the number of steps executed so far.\n",
    "    replay_buffer_size: int\n",
    "        How many memories to store in the replay buffer.\n",
    "    batch_size: int\n",
    "        How many transitions to sample each time experience is replayed.\n",
    "    gamma: float\n",
    "        Discount Factor\n",
    "    learning_starts: int\n",
    "        After how many environment steps to start replaying experiences\n",
    "    learning_freq: int\n",
    "        How many steps of environment to take between every experience replay\n",
    "    frame_history_len: int\n",
    "        How many past frames to include as input to the model.\n",
    "    target_update_freq: int\n",
    "        How many experience replay rounds (not steps!) to perform between\n",
    "        each update to the target Q network\n",
    "    \"\"\"\n",
    "    assert type(env.observation_space) == gym.spaces.Box\n",
    "    assert type(env.action_space)      == gym.spaces.Discrete\n",
    "\n",
    "    ###############\n",
    "    # BUILD MODEL #\n",
    "    ###############\n",
    "\n",
    "    if len(env.observation_space.shape) == 1:\n",
    "        # This means we are running on low-dimensional observations (e.g. RAM)\n",
    "        input_arg = env.observation_space.shape[0]\n",
    "    else:\n",
    "        img_h, img_w, img_c = env.observation_space.shape\n",
    "        input_arg = frame_history_len * img_c\n",
    "    num_actions = env.action_space.n\n",
    "\n",
    "    # Construct an epilson greedy policy with given exploration schedule\n",
    "    def select_epilson_greedy_action(model, obs, t):\n",
    "        sample = random.random()\n",
    "        eps_threshold = exploration.value(t)\n",
    "        if sample > eps_threshold:\n",
    "            obs = torch.from_numpy(obs).type(dtype).unsqueeze(0) / 255.0\n",
    "            # Use volatile = True if variable is only used in inference mode, i.e. don’t save the history\n",
    "            return model(Variable(obs, volatile=True)).data.max(1)[1].cpu()\n",
    "        else:\n",
    "            return torch.IntTensor([[random.randrange(num_actions)]])\n",
    "\n",
    "    # Initialize target q function and q function\n",
    "    Q = q_func(input_arg, num_actions).type(dtype)\n",
    "    target_Q = q_func(input_arg, num_actions).type(dtype)\n",
    "\n",
    "    # Construct Q network optimizer function\n",
    "    optimizer = optimizer_spec.constructor(Q.parameters(), **optimizer_spec.kwargs)\n",
    "\n",
    "    # Construct the replay buffer\n",
    "    replay_buffer = ReplayBuffer(replay_buffer_size, frame_history_len)\n",
    "\n",
    "    ###############\n",
    "    # RUN ENV     #\n",
    "    ###############\n",
    "    num_param_updates = 0\n",
    "    mean_episode_reward = -float('nan')\n",
    "    best_mean_episode_reward = -float('inf')\n",
    "    last_obs = env.reset()\n",
    "    LOG_EVERY_N_STEPS = 10000\n",
    "\n",
    "    for t in count():\n",
    "        ### Check stopping criterion\n",
    "        if stopping_criterion is not None and stopping_criterion(env):\n",
    "            break\n",
    "\n",
    "        ### Step the env and store the transition\n",
    "        # Store lastest observation in replay memory and last_idx can be used to store action, reward, done\n",
    "        last_idx = replay_buffer.store_frame(last_obs)\n",
    "        # encode_recent_observation will take the latest observation\n",
    "        # that you pushed into the buffer and compute the corresponding\n",
    "        # input that should be given to a Q network by appending some\n",
    "        # previous frames.\n",
    "        recent_observations = replay_buffer.encode_recent_observation()\n",
    "\n",
    "        # Choose random action if not yet start learning\n",
    "        if t > learning_starts:\n",
    "            action = select_epilson_greedy_action(Q, recent_observations, t)[0, 0]\n",
    "        else:\n",
    "            action = random.randrange(num_actions)\n",
    "        # Advance one step\n",
    "        obs, reward, done, _ = env.step(action)\n",
    "        # clip rewards between -1 and 1\n",
    "        reward = max(-1.0, min(reward, 1.0))\n",
    "        # Store other info in replay memory\n",
    "        replay_buffer.store_effect(last_idx, action, reward, done)\n",
    "        # Resets the environment when reaching an episode boundary.\n",
    "        if done:\n",
    "            obs = env.reset()\n",
    "        last_obs = obs\n",
    "\n",
    "        ### Perform experience replay and train the network.\n",
    "        # Note that this is only done if the replay buffer contains enough samples\n",
    "        # for us to learn something useful -- until then, the model will not be\n",
    "        # initialized and random actions should be taken\n",
    "        if (t > learning_starts and\n",
    "                t % learning_freq == 0 and\n",
    "                replay_buffer.can_sample(batch_size)):\n",
    "            # Use the replay buffer to sample a batch of transitions\n",
    "            # Note: done_mask[i] is 1 if the next state corresponds to the end of an episode,\n",
    "            # in which case there is no Q-value at the next state; at the end of an\n",
    "            # episode, only the current state reward contributes to the target\n",
    "            obs_batch, act_batch, rew_batch, next_obs_batch, done_mask = replay_buffer.sample(batch_size)\n",
    "            # Convert numpy nd_array to torch variables for calculation\n",
    "            obs_batch = Variable(torch.from_numpy(obs_batch).type(dtype) / 255.0)\n",
    "            act_batch = Variable(torch.from_numpy(act_batch).long())\n",
    "            rew_batch = Variable(torch.from_numpy(rew_batch))\n",
    "            next_obs_batch = Variable(torch.from_numpy(next_obs_batch).type(dtype) / 255.0)\n",
    "            not_done_mask = Variable(torch.from_numpy(1 - done_mask)).type(dtype)\n",
    "\n",
    "            if USE_CUDA:\n",
    "                act_batch = act_batch.cuda()\n",
    "                rew_batch = rew_batch.cuda()\n",
    "\n",
    "            # Compute current Q value, q_func takes only state and output value for every state-action pair\n",
    "            # We choose Q based on action taken.\n",
    "            current_Q_values = Q(obs_batch).gather(1, act_batch.unsqueeze(1))\n",
    "            # Compute next Q value based on which action gives max Q values\n",
    "            # Detach variable from the current graph since we don't want gradients for next Q to propagated\n",
    "            next_max_q = target_Q(next_obs_batch).detach().max(1)[0]\n",
    "            next_Q_values = not_done_mask * next_max_q\n",
    "            # Compute the target of the current Q values\n",
    "            target_Q_values = rew_batch + (gamma * next_Q_values)\n",
    "            # Compute Bellman error\n",
    "            bellman_error = target_Q_values - current_Q_values\n",
    "            # clip the bellman error between [-1 , 1]\n",
    "            clipped_bellman_error = bellman_error.clamp(-1, 1)\n",
    "            # Note: clipped_bellman_delta * -1 will be right gradient\n",
    "            d_error = clipped_bellman_error * -1.0\n",
    "            # Clear previous gradients before backward pass\n",
    "            optimizer.zero_grad()\n",
    "            # run backward pass\n",
    "            current_Q_values.backward(d_error.data.unsqueeze(1))\n",
    "\n",
    "            # Perfom the update\n",
    "            optimizer.step()\n",
    "            num_param_updates += 1\n",
    "\n",
    "            # Periodically update the target network by Q network to target Q network\n",
    "            if num_param_updates % target_update_freq == 0:\n",
    "                target_Q.load_state_dict(Q.state_dict())\n",
    "\n",
    "        ### 4. Log progress and keep track of statistics\n",
    "        episode_rewards = get_wrapper_by_name(env, \"Monitor\").get_episode_rewards()\n",
    "        if len(episode_rewards) > 0:\n",
    "            mean_episode_reward = np.mean(episode_rewards[-100:])\n",
    "        if len(episode_rewards) > 100:\n",
    "            best_mean_episode_reward = max(best_mean_episode_reward, mean_episode_reward)\n",
    "\n",
    "        Statistic[\"mean_episode_rewards\"].append(mean_episode_reward)\n",
    "        Statistic[\"best_mean_episode_rewards\"].append(best_mean_episode_reward)\n",
    "\n",
    "        if t % LOG_EVERY_N_STEPS == 0 and t > learning_starts:\n",
    "            print(\"Timestep %d\" % (t,))\n",
    "            print(\"mean reward (100 episodes) %f\" % mean_episode_reward)\n",
    "            print(\"best mean reward %f\" % best_mean_episode_reward)\n",
    "            print(\"episodes %d\" % len(episode_rewards))\n",
    "            print(\"exploration %f\" % exploration.value(t))\n",
    "            sys.stdout.flush()\n",
    "\n",
    "            # Dump statistics to pickle\n",
    "            with open('statistics.pkl', 'wb') as f:\n",
    "                pickle.dump(Statistic, f)\n",
    "                print(\"Saved to %s\" % 'results/statistics.pkl')"
   ]
  },
  {
   "cell_type": "markdown",
   "metadata": {},
   "source": [
    "### Main Function"
   ]
  },
  {
   "cell_type": "code",
   "execution_count": null,
   "metadata": {},
   "outputs": [
    {
     "name": "stderr",
     "output_type": "stream",
     "text": [
      "[2017-07-14 09:40:05,419] Making new env: PongNoFrameskip-v4\n",
      "[2017-07-14 09:40:05,840] Clearing 14 monitor files from previous run (because force=True was provided)\n",
      "[2017-07-14 09:40:07,897] Starting new video recorder writing to /users/aditya.a/cvit_schools/cvitmlss17/lab5/results/pong/openaigym.video.0.16263.video000000.mp4\n",
      "[2017-07-14 09:40:11,194] Starting new video recorder writing to /users/aditya.a/cvit_schools/cvitmlss17/lab5/results/pong/openaigym.video.0.16263.video000001.mp4\n",
      "[2017-07-14 09:40:22,678] Starting new video recorder writing to /users/aditya.a/cvit_schools/cvitmlss17/lab5/results/pong/openaigym.video.0.16263.video000008.mp4\n",
      "[2017-07-14 09:40:51,171] Starting new video recorder writing to /users/aditya.a/cvit_schools/cvitmlss17/lab5/results/pong/openaigym.video.0.16263.video000027.mp4\n",
      "[2017-07-14 09:41:54,521] Starting new video recorder writing to /users/aditya.a/cvit_schools/cvitmlss17/lab5/results/pong/openaigym.video.0.16263.video000064.mp4\n"
     ]
    },
    {
     "name": "stdout",
     "output_type": "stream",
     "text": [
      "Timestep 60000\n",
      "mean reward (100 episodes) -20.312500\n",
      "best mean reward -inf\n",
      "episodes 64\n",
      "exploration 0.946000\n",
      "Saved to results/statistics.pkl\n",
      "Timestep 70000\n",
      "mean reward (100 episodes) -20.266667\n",
      "best mean reward -inf\n",
      "episodes 75\n",
      "exploration 0.937000\n",
      "Saved to results/statistics.pkl\n",
      "Timestep 80000\n",
      "mean reward (100 episodes) -20.197674\n",
      "best mean reward -inf\n",
      "episodes 86\n",
      "exploration 0.928000\n",
      "Saved to results/statistics.pkl\n",
      "Timestep 90000\n",
      "mean reward (100 episodes) -20.237113\n",
      "best mean reward -inf\n",
      "episodes 97\n",
      "exploration 0.919000\n",
      "Saved to results/statistics.pkl\n",
      "Timestep 100000\n",
      "mean reward (100 episodes) -20.220000\n",
      "best mean reward -20.200000\n",
      "episodes 107\n",
      "exploration 0.910000\n",
      "Saved to results/statistics.pkl\n",
      "Timestep 110000\n",
      "mean reward (100 episodes) -20.200000\n",
      "best mean reward -20.200000\n",
      "episodes 118\n",
      "exploration 0.901000\n",
      "Saved to results/statistics.pkl\n"
     ]
    },
    {
     "name": "stderr",
     "output_type": "stream",
     "text": [
      "[2017-07-14 09:45:43,763] Starting new video recorder writing to /users/aditya.a/cvit_schools/cvitmlss17/lab5/results/pong/openaigym.video.0.16263.video000125.mp4\n"
     ]
    },
    {
     "name": "stdout",
     "output_type": "stream",
     "text": [
      "Timestep 120000\n",
      "mean reward (100 episodes) -20.170000\n",
      "best mean reward -20.170000\n",
      "episodes 129\n",
      "exploration 0.892000\n",
      "Saved to results/statistics.pkl\n",
      "Timestep 130000\n",
      "mean reward (100 episodes) -20.170000\n",
      "best mean reward -20.150000\n",
      "episodes 140\n",
      "exploration 0.883000\n",
      "Saved to results/statistics.pkl\n",
      "Timestep 140000\n",
      "mean reward (100 episodes) -20.130000\n",
      "best mean reward -20.130000\n",
      "episodes 150\n",
      "exploration 0.874000\n",
      "Saved to results/statistics.pkl\n",
      "Timestep 150000\n",
      "mean reward (100 episodes) -20.130000\n",
      "best mean reward -20.120000\n",
      "episodes 161\n",
      "exploration 0.865000\n",
      "Saved to results/statistics.pkl\n",
      "Timestep 160000\n",
      "mean reward (100 episodes) -20.150000\n",
      "best mean reward -20.120000\n",
      "episodes 172\n",
      "exploration 0.856000\n",
      "Saved to results/statistics.pkl\n",
      "Timestep 170000\n",
      "mean reward (100 episodes) -20.220000\n",
      "best mean reward -20.120000\n",
      "episodes 183\n",
      "exploration 0.847000\n",
      "Saved to results/statistics.pkl\n",
      "Timestep 180000\n",
      "mean reward (100 episodes) -20.250000\n",
      "best mean reward -20.120000\n",
      "episodes 194\n",
      "exploration 0.838000\n",
      "Saved to results/statistics.pkl\n",
      "Timestep 190000\n",
      "mean reward (100 episodes) -20.260000\n",
      "best mean reward -20.120000\n",
      "episodes 205\n",
      "exploration 0.829000\n",
      "Saved to results/statistics.pkl\n"
     ]
    },
    {
     "name": "stderr",
     "output_type": "stream",
     "text": [
      "[2017-07-14 09:49:53,906] Starting new video recorder writing to /users/aditya.a/cvit_schools/cvitmlss17/lab5/results/pong/openaigym.video.0.16263.video000216.mp4\n"
     ]
    },
    {
     "name": "stdout",
     "output_type": "stream",
     "text": [
      "Timestep 200000\n",
      "mean reward (100 episodes) -20.270000\n",
      "best mean reward -20.120000\n",
      "episodes 216\n",
      "exploration 0.820000\n",
      "Saved to results/statistics.pkl\n",
      "Timestep 210000\n",
      "mean reward (100 episodes) -20.330000\n",
      "best mean reward -20.120000\n",
      "episodes 227\n",
      "exploration 0.811000\n",
      "Saved to results/statistics.pkl\n"
     ]
    }
   ],
   "source": [
    "if __name__ == '__main__':\n",
    "    \n",
    "    ## Set Gym\n",
    "    # Get Atari games.\n",
    "    atari = gym.benchmark_spec('Atari40M')\n",
    "\n",
    "    # Change the index to select a different game.\n",
    "    task = atari.tasks[PONG]\n",
    "    num_timesteps = task.max_timesteps\n",
    "    \n",
    "    ## Run training\n",
    "    seed = 0        # Use a seed of zero\n",
    "    env = get_env(task, seed)\n",
    "    \n",
    "    def stopping_criterion(env):\n",
    "        # notice that here t is the number of steps of the wrapped env,\n",
    "        # which is different from the number of steps in the underlying env\n",
    "        return get_wrapper_by_name(env, \"Monitor\").get_total_steps() >= num_timesteps\n",
    "    \n",
    "    optimizer_spec = OptimizerSpec(\n",
    "        constructor=optim.RMSprop,\n",
    "        kwargs=dict(lr=LEARNING_RATE, alpha=ALPHA, eps=EPS),\n",
    "    )\n",
    "    \n",
    "    exploration_schedule = LinearSchedule(1000000, 0.1)\n",
    "    \n",
    "    dqn_learing(\n",
    "        env=env,\n",
    "        q_func=DQN,\n",
    "        optimizer_spec=optimizer_spec,\n",
    "        exploration=exploration_schedule,\n",
    "        stopping_criterion=stopping_criterion,\n",
    "        replay_buffer_size=REPLAY_BUFFER_SIZE,\n",
    "        batch_size=BATCH_SIZE,\n",
    "        gamma=GAMMA,\n",
    "        learning_starts=LEARNING_STARTS,\n",
    "        learning_freq=LEARNING_FREQ,\n",
    "        frame_history_len=FRAME_HISTORY_LEN,\n",
    "        target_update_freq=TARGET_UPDATE_FREQ,\n",
    "    )\n",
    "\n"
   ]
  },
  {
   "cell_type": "markdown",
   "metadata": {},
   "source": [
    "### Plots"
   ]
  },
  {
   "cell_type": "code",
   "execution_count": 8,
   "metadata": {},
   "outputs": [
    {
     "data": {
      "text/plain": [
       "[<matplotlib.lines.Line2D at 0x7f57648dcbe0>]"
      ]
     },
     "execution_count": 8,
     "metadata": {},
     "output_type": "execute_result"
    },
    {
     "data": {
      "image/png": "[encoded data removed]",
      "text/plain": [
       "<matplotlib.figure.Figure at 0x7f57647a3710>"
      ]
     },
     "metadata": {},
     "output_type": "display_data"
    }
   ],
   "source": [
    "plt.plot(Statistic[\"mean_episode_rewards\"])"
   ]
  },
  {
   "cell_type": "code",
   "execution_count": 10,
   "metadata": {},
   "outputs": [
    {
     "data": {
      "text/plain": [
       "[<matplotlib.lines.Line2D at 0x7f575fb8f2e8>]"
      ]
     },
     "execution_count": 10,
     "metadata": {},
     "output_type": "execute_result"
    },
    {
     "data": {
      "image/png": "[encoded data removed]",
      "text/plain": [
       "<matplotlib.figure.Figure at 0x7f5764444eb8>"
      ]
     },
     "metadata": {},
     "output_type": "display_data"
    }
   ],
   "source": [
    "plt.plot(Statistic[\"best_mean_episode_rewards\"])"
   ]
  },
  {
   "cell_type": "code",
   "execution_count": null,
   "metadata": {
    "collapsed": true
   },
   "outputs": [],
   "source": []
  }
 ],
 "metadata": {
  "kernelspec": {
   "display_name": "Python [conda root]",
   "language": "python",
   "name": "conda-root-py"
  },
  "language_info": {
   "codemirror_mode": {
    "name": "ipython",
    "version": 3
   },
   "file_extension": ".py",
   "mimetype": "text/x-python",
   "name": "python",
   "nbconvert_exporter": "python",
   "pygments_lexer": "ipython3",
   "version": "3.6.1"
  }
 },
 "nbformat": 4,
 "nbformat_minor": 2
}
