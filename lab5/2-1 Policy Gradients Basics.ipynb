{
 "cells": [
  {
   "cell_type": "markdown",
   "metadata": {},
   "source": [
    "## n-armed bandit problem"
   ]
  },
  {
   "cell_type": "code",
   "execution_count": 2,
   "metadata": {
    "collapsed": true
   },
   "outputs": [],
   "source": [
    "import numpy as np\n",
    "import torch\n",
    "import torch.nn as nn\n",
    "import torch.nn.functional as F\n",
    "import torch.optim as optim\n",
    "from torch.autograd import Variable"
   ]
  },
  {
   "cell_type": "markdown",
   "metadata": {},
   "source": [
    "**Bandit**"
   ]
  },
  {
   "cell_type": "code",
   "execution_count": 3,
   "metadata": {
    "collapsed": true
   },
   "outputs": [],
   "source": [
    "# List our bandit arms\n",
    "#Currently arm 4 (index #3) is set to most often provide a positive reward.\n",
    "bandit_arms = [0.2,0,-2,-0.2]\n",
    "num_arms = len(bandit_arms)\n",
    "def pullBandit(bandit):\n",
    "    #Get a random number.\n",
    "    result = np.random.randn(1)\n",
    "    if result > bandit:\n",
    "        #return a positive reward.\n",
    "        return 1\n",
    "    else:\n",
    "        #return a negative reward.\n",
    "        return -1\n"
   ]
  },
  {
   "cell_type": "code",
   "execution_count": 6,
   "metadata": {},
   "outputs": [
    {
     "name": "stdout",
     "output_type": "stream",
     "text": [
      "Running reward for the 4 arms of the bandit: [-1.  0.  0.  0.]\n",
      "Running reward for the 4 arms of the bandit: [-15.   0.   0.   0.]\n",
      "Running reward for the 4 arms of the bandit: [-33.   0.   0.   0.]\n",
      "Running reward for the 4 arms of the bandit: [-21.   0.   0.   0.]\n",
      "Running reward for the 4 arms of the bandit: [-15.   0.   0.   0.]\n",
      "Running reward for the 4 arms of the bandit: [-27.   0.   0.   0.]\n",
      "Running reward for the 4 arms of the bandit: [-29.   0.   0.   0.]\n",
      "Running reward for the 4 arms of the bandit: [-35.   0.   0.   0.]\n",
      "Running reward for the 4 arms of the bandit: [-47.   0.   0.   0.]\n",
      "Running reward for the 4 arms of the bandit: [-41.   0.   0.   0.]\n",
      "Running reward for the 4 arms of the bandit: [-53.   0.   0.   0.]\n",
      "Running reward for the 4 arms of the bandit: [-67.   0.   0.   0.]\n",
      "Running reward for the 4 arms of the bandit: [-79.   0.   0.   0.]\n",
      "Running reward for the 4 arms of the bandit: [-75.   0.   0.   0.]\n",
      "Running reward for the 4 arms of the bandit: [-81.   0.   0.   0.]\n",
      "Running reward for the 4 arms of the bandit: [-93.   0.   0.   0.]\n",
      "Running reward for the 4 arms of the bandit: [-105.    0.    0.    0.]\n",
      "Running reward for the 4 arms of the bandit: [-117.    0.    0.    0.]\n",
      "Running reward for the 4 arms of the bandit: [-125.    0.    0.    0.]\n",
      "Running reward for the 4 arms of the bandit: [-139.    0.    0.    0.]\n",
      "\n",
      "The agent thinks arm 4 is the most promising....\n",
      "...and it was wrong!\n"
     ]
    }
   ],
   "source": [
    "# Train\n",
    "w = Variable(torch.ones(num_arms), requires_grad = True)\n",
    "output = nn.functional.softmax(w)\n",
    "\n",
    "optimizer = optim.Adam([w])\n",
    "\n",
    "total_episodes = 1000\n",
    "total_reward = np.zeros(num_arms)\n",
    "\n",
    "i = 0\n",
    "while i < total_episodes:\n",
    "    #Choose action according to Boltzmann distribution.\n",
    "    actions = output\n",
    "    a = np.random.choice(actions.data.numpy(), p=actions.data.numpy())\n",
    "    \n",
    "    action = np.argmax(actions.data.numpy == a)\n",
    "    \n",
    "    reward = pullBandit(bandit_arms[action]) # Get reward for picking one of the bandit arms\n",
    "\n",
    "    action_v = Variable(torch.from_numpy(np.array(action)), requires_grad = False)\n",
    "    reward_v = Variable(torch.from_numpy(np.array(reward)), requires_grad = False)\n",
    "    \n",
    "    responsible_output = output[action:action+1]\n",
    "#     responsible_output_f = responsible_output.type(torch.FloatTensor)\n",
    "#     print(output, responsible_output)\n",
    "    optimizer.zero_grad()\n",
    "    \n",
    "    loss = -(torch.log(responsible_output))\n",
    "    loss.backward(retain_variables=True)\n",
    "    optimizer.step()\n",
    "#     print(w)\n",
    "#     print('=========')\n",
    "#     print(w)\n",
    "#     w = w - 0.1*w.grad.data\n",
    "#     print('=========')\n",
    "    \n",
    "    total_reward[action] += reward\n",
    "    \n",
    "    if i % 50 == 0:\n",
    "        print(\"Running reward for the \" + str(num_arms) + \" arms of the bandit: \" + str(total_reward))\n",
    "    i += 1\n",
    "    \n",
    "print(\"\\nThe agent thinks arm \" + str(np.argmax(w)+1) + \" is the most promising....\")\n",
    "if np.argmax(w) == np.argmax(-np.array(bandit_arms)):\n",
    "    print(\"...and it was right!\")\n",
    "else:\n",
    "    print(\"...and it was wrong!\")\n",
    "\n",
    "        "
   ]
  },
  {
   "cell_type": "code",
   "execution_count": null,
   "metadata": {
    "collapsed": true
   },
   "outputs": [],
   "source": []
  },
  {
   "cell_type": "code",
   "execution_count": null,
   "metadata": {
    "collapsed": true
   },
   "outputs": [],
   "source": []
  },
  {
   "cell_type": "code",
   "execution_count": null,
   "metadata": {
    "collapsed": true
   },
   "outputs": [],
   "source": []
  }
 ],
 "metadata": {
  "kernelspec": {
   "display_name": "Python [conda root]",
   "language": "python",
   "name": "conda-root-py"
  },
  "language_info": {
   "codemirror_mode": {
    "name": "ipython",
    "version": 3
   },
   "file_extension": ".py",
   "mimetype": "text/x-python",
   "name": "python",
   "nbconvert_exporter": "python",
   "pygments_lexer": "ipython3",
   "version": "3.6.1"
  }
 },
 "nbformat": 4,
 "nbformat_minor": 2
}
