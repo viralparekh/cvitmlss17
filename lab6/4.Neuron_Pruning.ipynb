{
 "cells": [
  {
   "cell_type": "markdown",
   "metadata": {},
   "source": [
    "## Pruning Neurons in Neural Networks\n",
    "\n",
    "Throughout the summer school, we have been discussing big neural networks models with a huge amount of parameters. The concentration of the parameters is much more in the fully connected layers and this brings us to the question whether so many parameters in the FC Layers are necessary.\n",
    "\n",
    "<img src='images/pruning.jpg', style=\"width: 500px; height: 250px\">\n",
    "\n",
    "While pruning connections of the network by making the weight space sparse, we were able to drop connections. However, the model occupied the same amount of size as before in memory while doing a forward pass. Thus we would not be able to exploit that procedure to its fullest unless we write separate modules for sparse matrix multiplications in neural networks which the deep learning libraries do not provide.\n",
    "\n",
    "In this notebook we shall see one of the solutions which remove redundant neurons from the network. Our focus shall be on fully connected layers. Through this approach we can not only reduce the size of the network on disk but the resultant model as whole will occupy less space in the RAM during a forward pass."
   ]
  },
  {
   "cell_type": "code",
   "execution_count": 1,
   "metadata": {
    "collapsed": true
   },
   "outputs": [],
   "source": [
    "import numpy as np\n",
    "np.random.seed(1337)  # for reproducibility\n",
    "import torch \n",
    "import torchvision\n",
    "import torch.nn as nn\n",
    "import torch.nn.functional as F\n",
    "import torchvision.datasets as dsets\n",
    "import torchvision.transforms as transforms\n",
    "from torch.autograd import Variable\n",
    "%matplotlib inline\n",
    "import matplotlib.pyplot as plt"
   ]
  },
  {
   "cell_type": "markdown",
   "metadata": {},
   "source": [
    "### Hyperparameters"
   ]
  },
  {
   "cell_type": "code",
   "execution_count": 2,
   "metadata": {
    "collapsed": true
   },
   "outputs": [],
   "source": [
    "num_epochs = 5\n",
    "batch_size = 100\n",
    "learning_rate = 0.001\n",
    "use_reg = False\n",
    "alpha = 0.5\n",
    "beta = 1-alpha"
   ]
  },
  {
   "cell_type": "markdown",
   "metadata": {},
   "source": [
    "### Downloading MNIST"
   ]
  },
  {
   "cell_type": "code",
   "execution_count": 3,
   "metadata": {
    "collapsed": false
   },
   "outputs": [
    {
     "name": "stdout",
     "output_type": "stream",
     "text": [
      "Files already downloaded\n"
     ]
    }
   ],
   "source": [
    "train_dataset = dsets.MNIST(root='../../data/lab6',\n",
    "                            train=True, \n",
    "                            transform=transforms.ToTensor(),\n",
    "                            download=True)\n",
    "\n",
    "test_dataset = dsets.MNIST(root='../../data/lab6',\n",
    "                           train=False, \n",
    "                           transform=transforms.ToTensor())"
   ]
  },
  {
   "cell_type": "markdown",
   "metadata": {},
   "source": [
    "### Dataloader"
   ]
  },
  {
   "cell_type": "code",
   "execution_count": 4,
   "metadata": {
    "collapsed": true
   },
   "outputs": [],
   "source": [
    "train_loader = torch.utils.data.DataLoader(dataset=train_dataset,\n",
    "                                           batch_size=batch_size, \n",
    "                                           shuffle=True)\n",
    "\n",
    "test_loader = torch.utils.data.DataLoader(dataset=test_dataset,\n",
    "                                          batch_size=batch_size, \n",
    "                                          shuffle=False)"
   ]
  },
  {
   "cell_type": "markdown",
   "metadata": {},
   "source": [
    "### Defining a fully connected network to classify MNIST"
   ]
  },
  {
   "cell_type": "code",
   "execution_count": 5,
   "metadata": {
    "collapsed": true
   },
   "outputs": [],
   "source": [
    "class Net(nn.Module):\n",
    "    def __init__(self):\n",
    "        super(Net, self).__init__()\n",
    "        self.fc1 = nn.Linear(784, 2000)\n",
    "        self.fc2 = nn.Linear(2000, 1000)\n",
    "        self.fc3 = nn.Linear(1000, 10)\n",
    "        \n",
    "    def forward(self, x):\n",
    "        out = x.view(x.size(0), -1)\n",
    "        out = self.fc1(out)\n",
    "        out = self.fc2(F.relu(out))\n",
    "        out = self.fc3(F.relu(out))\n",
    "        return out"
   ]
  },
  {
   "cell_type": "markdown",
   "metadata": {},
   "source": [
    "<b>The below function is called to reinitialize the weights of the network and define the required loss criterion and the optimizer.</b> "
   ]
  },
  {
   "cell_type": "code",
   "execution_count": 6,
   "metadata": {
    "collapsed": true
   },
   "outputs": [],
   "source": [
    "def reset_model():\n",
    "    net = Net()\n",
    "    net = net.cuda()\n",
    "\n",
    "    # Loss and Optimizer\n",
    "    criterion = nn.CrossEntropyLoss()\n",
    "    optimizer = torch.optim.Adam(net.parameters(), lr=learning_rate)\n",
    "    return net,criterion,optimizer"
   ]
  },
  {
   "cell_type": "markdown",
   "metadata": {},
   "source": [
    "### Network Initialization"
   ]
  },
  {
   "cell_type": "code",
   "execution_count": 7,
   "metadata": {
    "collapsed": false
   },
   "outputs": [],
   "source": [
    "net, criterion, optimizer = reset_model()"
   ]
  },
  {
   "cell_type": "markdown",
   "metadata": {},
   "source": [
    "### Regularizers\n",
    "\n",
    "The goal of introducing l1 regulariser and l2 regulariser is to penalise the connections' weights between neurons to prevent overfitting. However, the application of such regularisers alone in deep neural network are not as successful as in linear regression and logistic regression. On the other hand, in the hardware computation especially using GPU, dropping connections may not save computation time and memory unless some special coding and processing is used. The introduction of dropout achieve great success to avoid over-fitting in practice with these two regularisers. These regularisation techniques are suitable for preventing overfitting but may not be helpful in simplifying the NN structure. \n",
    "\n",
    "Here, we see two more regularizers which help is exploring the sparsity.\n",
    "\n",
    "$$\n",
    "li\\_regularizer = \\lambda_{l_{i}}\\sum_{l=1}^{L}\\sum_{j=1}^{n_{l}}\\sqrt{\\sum_{i=1}^{n_{l-1}}(W_{i,j}^{l})^{2}}\n",
    "$$\n",
    "\n",
    "$$\n",
    "lo\\_regularizer = \\lambda_{l_{i}}\\sum_{l=1}^{L}\\sum_{i=1}^{n_{l-1}}\\sqrt{\\sum_{j=1}^{n_{l}}(W_{i,j}^{l})^{2}}\n",
    "$$\n",
    "\n",
    "$$\n",
    "loss = loss + \\alpha*li\\_regularizer + (1-\\alpha)*lo\\_regularizer\n",
    "$$"
   ]
  },
  {
   "cell_type": "markdown",
   "metadata": {},
   "source": [
    "### LI Regularizer definition"
   ]
  },
  {
   "cell_type": "code",
   "execution_count": 18,
   "metadata": {
    "collapsed": true
   },
   "outputs": [],
   "source": [
    "def li_regularizer(net):\n",
    "    \n",
    "    lambda_li = 0.001\n",
    "    li_reg_loss = 0\n",
    "    for m in net.modules():\n",
    "        if isinstance(m,nn.Linear):\n",
    "            temp_loss = torch.sum(((torch.sum(((m.weight)**2),1))**0.5),0)\n",
    "            li_reg_loss += lambda_li*temp_loss\n",
    "\n",
    "    return li_reg_loss\n"
   ]
  },
  {
   "cell_type": "markdown",
   "metadata": {},
   "source": [
    "### LO Regularizer definition"
   ]
  },
  {
   "cell_type": "code",
   "execution_count": 19,
   "metadata": {
    "collapsed": true
   },
   "outputs": [],
   "source": [
    "def lo_regularizer(net):\n",
    "    \n",
    "    lambda_lo = 0.001\n",
    "    lo_reg_loss = 0\n",
    "    for m in net.modules():\n",
    "        if isinstance(m,nn.Linear):\n",
    "            temp_loss = torch.sum(((torch.sum(((m.weight)**2),0))**0.5),1)\n",
    "            lo_reg_loss += lambda_lo*temp_loss\n",
    "    \n",
    "    return lo_reg_loss"
   ]
  },
  {
   "cell_type": "markdown",
   "metadata": {},
   "source": [
    "### L1 Regularizer definition"
   ]
  },
  {
   "cell_type": "code",
   "execution_count": 10,
   "metadata": {
    "collapsed": true
   },
   "outputs": [],
   "source": [
    "def l1_regularizer(net, loss, beta):\n",
    "    l1_crit = nn.L1Loss(size_average=False)\n",
    "    reg_loss = 0\n",
    "    for param in net.parameters():\n",
    "        target = Variable((torch.FloatTensor(param.size()).zero_()).cuda())\n",
    "        reg_loss += l1_crit(param, target)\n",
    "        print(type(reg_loss))\n",
    "        \n",
    "    loss += beta * reg_loss\n",
    "    return loss"
   ]
  },
  {
   "cell_type": "markdown",
   "metadata": {},
   "source": [
    "### Training and Testing functions"
   ]
  },
  {
   "cell_type": "code",
   "execution_count": 11,
   "metadata": {
    "collapsed": true
   },
   "outputs": [],
   "source": [
    "# Train the Model\n",
    "\n",
    "def training(net):\n",
    "    \n",
    "    net, criterion, optimizer = reset_model()\n",
    "    \n",
    "    net.train()\n",
    "    for epoch in range(num_epochs):\n",
    "        total_loss = 0\n",
    "        accuracy = []\n",
    "        for i, (images, labels) in enumerate(train_loader):\n",
    "            images = images.cuda()\n",
    "            labels = labels.cuda()\n",
    "            temp_labels = labels\n",
    "            images = Variable(images)\n",
    "            labels = Variable(labels)\n",
    "\n",
    "            # Forward + Backward + Optimize\n",
    "            optimizer.zero_grad()\n",
    "            outputs = net(images)\n",
    "            loss = criterion(outputs, labels)\n",
    "            \n",
    "            if use_reg == True :\n",
    "        \n",
    "                loss = loss + alpha*li_regularizer(net) + beta*lo_regularizer(net)\n",
    "                \n",
    "            loss.backward()\n",
    "            optimizer.step()\n",
    "\n",
    "            total_loss += loss.data[0]\n",
    "            _, predicted = torch.max(outputs.data, 1)\n",
    "            correct = (predicted == temp_labels).sum()\n",
    "            accuracy.append(correct/float(batch_size))\n",
    "\n",
    "        print('Epoch: %d, Loss: %.4f, Accuracy: %.4f' %(epoch+1,total_loss, (sum(accuracy)/float(len(accuracy)))))\n",
    "    \n",
    "    return net"
   ]
  },
  {
   "cell_type": "code",
   "execution_count": 12,
   "metadata": {
    "collapsed": true
   },
   "outputs": [],
   "source": [
    "# Test the Model\n",
    "def testing(net):\n",
    "    net.eval() \n",
    "    correct = 0\n",
    "    total = 0\n",
    "    for images, labels in test_loader:\n",
    "        images = images.cuda()\n",
    "        labels = labels.cuda()\n",
    "        images = Variable(images)\n",
    "        outputs = net(images)\n",
    "        _, predicted = torch.max(outputs.data, 1)\n",
    "        total += labels.size(0)\n",
    "        correct += (predicted == labels).sum()\n",
    "\n",
    "    print('Test Accuracy of the network on the 10000 test images: %.2f %%' % (100.0 * correct / total))"
   ]
  },
  {
   "cell_type": "code",
   "execution_count": 14,
   "metadata": {
    "collapsed": false
   },
   "outputs": [
    {
     "name": "stdout",
     "output_type": "stream",
     "text": [
      "Epoch: 1, Loss: 117.6065, Accuracy: 0.9412\n",
      "Epoch: 2, Loss: 45.9828, Accuracy: 0.9756\n",
      "Epoch: 3, Loss: 31.0317, Accuracy: 0.9841\n",
      "Epoch: 4, Loss: 23.4878, Accuracy: 0.9878\n",
      "Epoch: 5, Loss: 18.3178, Accuracy: 0.9901\n",
      "Test Accuracy of the network on the 10000 test images: 97.86 %\n"
     ]
    }
   ],
   "source": [
    "use_reg = False\n",
    "net = training(net)\n",
    "testing(net)"
   ]
  },
  {
   "cell_type": "markdown",
   "metadata": {},
   "source": [
    "### Visualizing the weight Space"
   ]
  },
  {
   "cell_type": "code",
   "execution_count": 15,
   "metadata": {
    "collapsed": true
   },
   "outputs": [],
   "source": [
    "def weightdistribution(weights):\n",
    "    maxim= np.amax(weights)\n",
    "    print(\"Maximum value of learnt weights: \" + str(maxim))\n",
    "    \n",
    "    minim= np.amin(weights)\n",
    "    print(\"Minimum value of learnt weights: \" + str(minim))\n",
    "    \n",
    "    step= (maxim-minim)/255\n",
    "    freq= np.zeros(256)\n",
    "    steps=[]\n",
    "\n",
    "    for i in range(0,256):\n",
    "        steps.append(minim)\n",
    "        minim+=step\n",
    "    \n",
    "    m = weights.shape[0]\n",
    "    \n",
    "    for i in range(0,m):\n",
    "        e= weights[i]\n",
    "        dist= (steps-e)**2\n",
    "        freq[np.argmin(dist)]+=1\n",
    "    \n",
    "        \n",
    "    plt.plot(steps,list(freq))\n",
    "    plt.show()"
   ]
  },
  {
   "cell_type": "code",
   "execution_count": 16,
   "metadata": {
    "collapsed": false
   },
   "outputs": [
    {
     "name": "stdout",
     "output_type": "stream",
     "text": [
      "Maximum value of learnt weights: 0.278334\n",
      "Minimum value of learnt weights: -0.390026\n"
     ]
    },
    {
     "data": {
      "image/png": "[encoded data removed]",
      "text/plain": [
       "<matplotlib.figure.Figure at 0x7efcc6893e10>"
      ]
     },
     "metadata": {},
     "output_type": "display_data"
    },
    {
     "name": "stdout",
     "output_type": "stream",
     "text": [
      "Maximum value of learnt weights: 0.462469\n",
      "Minimum value of learnt weights: -0.320726\n"
     ]
    },
    {
     "data": {
      "image/png": "[encoded data removed]",
      "text/plain": [
       "<matplotlib.figure.Figure at 0x7efd30460190>"
      ]
     },
     "metadata": {},
     "output_type": "display_data"
    },
    {
     "name": "stdout",
     "output_type": "stream",
     "text": [
      "Maximum value of learnt weights: 0.120549\n",
      "Minimum value of learnt weights: -0.24797\n"
     ]
    },
    {
     "data": {
      "image/png": "[encoded data removed]",
      "text/plain": [
       "<matplotlib.figure.Figure at 0x7efd304cccd0>"
      ]
     },
     "metadata": {},
     "output_type": "display_data"
    }
   ],
   "source": [
    "weightdistribution(net.state_dict()['fc1.weight'].cpu().numpy().flatten())\n",
    "weightdistribution(net.state_dict()['fc2.weight'].cpu().numpy().flatten())\n",
    "weightdistribution(net.state_dict()['fc3.weight'].cpu().numpy().flatten())"
   ]
  },
  {
   "cell_type": "markdown",
   "metadata": {},
   "source": [
    "### Training with the defined regularizers\n",
    "\n",
    "Next we train with the li and lo regularizers defined previously. We hope to address the issue of overfitting to some extent by using these regularizers. Also, the weight matrices are plotted to observe the distribution. "
   ]
  },
  {
   "cell_type": "code",
   "execution_count": 20,
   "metadata": {
    "collapsed": false
   },
   "outputs": [
    {
     "name": "stdout",
     "output_type": "stream",
     "text": [
      "Epoch: 1, Loss: 532.2214, Accuracy: 0.9200\n",
      "Epoch: 2, Loss: 278.6092, Accuracy: 0.9570\n",
      "Epoch: 3, Loss: 233.1755, Accuracy: 0.9653\n",
      "Epoch: 4, Loss: 211.8061, Accuracy: 0.9700\n",
      "Epoch: 5, Loss: 195.2165, Accuracy: 0.9726\n",
      "Test Accuracy of the network on the 10000 test images: 96.96 %\n"
     ]
    }
   ],
   "source": [
    "use_reg = True\n",
    "net = training(net)\n",
    "testing(net)"
   ]
  },
  {
   "cell_type": "code",
   "execution_count": 21,
   "metadata": {
    "collapsed": false
   },
   "outputs": [
    {
     "name": "stdout",
     "output_type": "stream",
     "text": [
      "Maximum value of learnt weights: 0.26628\n",
      "Minimum value of learnt weights: -0.385458\n"
     ]
    },
    {
     "data": {
      "image/png": "[encoded data removed]",
      "text/plain": [
       "<matplotlib.figure.Figure at 0x7efcbbe1f1d0>"
      ]
     },
     "metadata": {},
     "output_type": "display_data"
    },
    {
     "name": "stdout",
     "output_type": "stream",
     "text": [
      "Maximum value of learnt weights: 0.349339\n",
      "Minimum value of learnt weights: -0.281302\n"
     ]
    },
    {
     "data": {
      "image/png": "[encoded data removed]",
      "text/plain": [
       "<matplotlib.figure.Figure at 0x7efcbbe1f150>"
      ]
     },
     "metadata": {},
     "output_type": "display_data"
    },
    {
     "name": "stdout",
     "output_type": "stream",
     "text": [
      "Maximum value of learnt weights: 0.424901\n",
      "Minimum value of learnt weights: -0.499144\n"
     ]
    },
    {
     "data": {
      "image/png": "[encoded data removed]",
      "text/plain": [
       "<matplotlib.figure.Figure at 0x7efcbbdbaa90>"
      ]
     },
     "metadata": {},
     "output_type": "display_data"
    }
   ],
   "source": [
    "weightdistribution(net.state_dict()['fc1.weight'].cpu().numpy().flatten())\n",
    "weightdistribution(net.state_dict()['fc2.weight'].cpu().numpy().flatten())\n",
    "weightdistribution(net.state_dict()['fc3.weight'].cpu().numpy().flatten())"
   ]
  },
  {
   "cell_type": "markdown",
   "metadata": {},
   "source": [
    "### Pruning\n",
    "\n",
    "We next prune the parameters based ona threshold criterion as seen previously. The parameters before and after pruning are printed below."
   ]
  },
  {
   "cell_type": "code",
   "execution_count": 22,
   "metadata": {
    "collapsed": false
   },
   "outputs": [
    {
     "name": "stdout",
     "output_type": "stream",
     "text": [
      "('WEIGHT ', (2000, 784))\n",
      "Before pruning------->\n",
      "1566300\n",
      "After pruning------->\n",
      "24976\n",
      "-------------------------------------------------------------------------------\n",
      "('WEIGHT ', (1000, 2000))\n",
      "Before pruning------->\n",
      "1998975\n",
      "After pruning------->\n",
      "11732\n",
      "-------------------------------------------------------------------------------\n",
      "('WEIGHT ', (10, 1000))\n",
      "Before pruning------->\n",
      "9961\n",
      "After pruning------->\n",
      "2073\n",
      "-------------------------------------------------------------------------------\n"
     ]
    }
   ],
   "source": [
    "threshold = 0.01\n",
    "\n",
    "for m in net.modules():\n",
    "    if isinstance(m,nn.Conv2d) or isinstance(m,nn.BatchNorm2d) or isinstance(m,nn.Linear):\n",
    "        \n",
    "        temp_weight = m.weight.data.cpu().numpy()\n",
    "        dims = temp_weight.shape\n",
    "        print('WEIGHT ',dims)\n",
    "        print(\"Before pruning------->\")\n",
    "        print(np.count_nonzero(temp_weight))\n",
    "        \n",
    "        temp_weight = temp_weight.flatten()\n",
    "        \n",
    "        [x1,x2]=((np.where(np.all([[(-1*threshold) < (temp_weight)] , [(temp_weight) < threshold]],axis=0))))\n",
    "        temp_weight[x2] = 0\n",
    "        temp_weight = np.reshape(temp_weight,dims)\n",
    "        print(\"After pruning------->\")\n",
    "        print(np.count_nonzero(temp_weight))\n",
    "        print('-------------------------------------------------------------------------------')\n",
    "        m.weight.data = (torch.FloatTensor(temp_weight).cuda())"
   ]
  },
  {
   "cell_type": "markdown",
   "metadata": {},
   "source": [
    "### Removing all zero rows and columns\n",
    "\n",
    "1. We remove those columns in the weight matrices which have all the values as zero.\n",
    "2. In the weight matrix for the next layer, we need to remove the corresponding rows.\n",
    "3. We must eventually end up removing the intersection of the two.\n",
    "\n",
    "<img src='images/drop_neuron.png'>"
   ]
  },
  {
   "cell_type": "code",
   "execution_count": 23,
   "metadata": {
    "collapsed": false
   },
   "outputs": [
    {
     "name": "stdout",
     "output_type": "stream",
     "text": [
      "---------------------------Original dimensions-----------------------\n",
      "(2000, 784)\n",
      "(1000, 2000)\n",
      "(10, 1000)\n",
      "---------------------------Final dimensions-----------------------\n",
      "(104, 784)\n",
      "(247, 104)\n",
      "(10, 247)\n"
     ]
    }
   ],
   "source": [
    "fc1_weight = net.fc1.weight.data.cpu().numpy()\n",
    "fc2_weight = net.fc2.weight.data.cpu().numpy()\n",
    "fc3_weight = net.fc3.weight.data.cpu().numpy()\n",
    "\n",
    "print('---------------------------Original dimensions-----------------------')\n",
    "print(fc1_weight.shape)\n",
    "print(fc2_weight.shape)\n",
    "print(fc3_weight.shape)\n",
    "print('---------------------------Final dimensions-----------------------')\n",
    "\n",
    "fc1_row_zero = np.where(~fc1_weight.any(axis=1))[0]\n",
    "fc2_col_zero = np.where(~fc2_weight.any(axis=0))[0]\n",
    "indices = set(fc1_row_zero).intersection(fc2_col_zero)\n",
    "indices = list(indices)\n",
    "\n",
    "fc1_weight = np.delete(fc1_weight,indices,axis=0)\n",
    "fc2_weight = np.delete(fc2_weight,indices,axis=1)\n",
    "\n",
    "\n",
    "fc2_row_zero = np.where(~fc2_weight.any(axis=1))[0]\n",
    "fc3_col_zero = np.where(~fc3_weight.any(axis=0))[0]\n",
    "indices = set(fc2_row_zero).intersection(fc3_col_zero)\n",
    "indices = list(indices)\n",
    "\n",
    "fc2_weight = np.delete(fc2_weight,indices,axis=0)\n",
    "fc3_weight = np.delete(fc3_weight,indices,axis=1)\n",
    "\n",
    "print(fc1_weight.shape)\n",
    "print(fc2_weight.shape)\n",
    "print(fc3_weight.shape)"
   ]
  },
  {
   "cell_type": "markdown",
   "metadata": {},
   "source": [
    "### Define a Modified Network\n",
    "\n",
    "After removing entire rows and columns of the bigger weight matrices we are left with smaller number of parameters which we can use to initialize a smaller network. In order to do that, first we need to define one.\n",
    "\n",
    "We define a modified network by using the dimensions of the modified weight matrix which we received in our previous step. Then, we reset that model too."
   ]
  },
  {
   "cell_type": "code",
   "execution_count": 24,
   "metadata": {
    "collapsed": false
   },
   "outputs": [],
   "source": [
    "class Mod_Net(nn.Module):\n",
    "    def __init__(self):\n",
    "        super(Mod_Net, self).__init__()\n",
    "        self.fc1 = nn.Linear(fc1_weight.shape[1], fc1_weight.shape[0])\n",
    "        self.fc2 = nn.Linear(fc2_weight.shape[1], fc2_weight.shape[0])\n",
    "        self.fc3 = nn.Linear(fc3_weight.shape[1], fc3_weight.shape[0])\n",
    "        \n",
    "    def forward(self, x):\n",
    "        out = x.view(x.size(0), -1)\n",
    "        out = self.fc1(out)\n",
    "        out = self.fc2(F.relu(out))\n",
    "        out = self.fc3(F.relu(out))\n",
    "        return out"
   ]
  },
  {
   "cell_type": "code",
   "execution_count": 25,
   "metadata": {
    "collapsed": false
   },
   "outputs": [],
   "source": [
    "def reset_mod_model():\n",
    "    modnet = Mod_Net()\n",
    "    modnet = modnet.cuda()\n",
    "\n",
    "    # Loss and Optimizer\n",
    "    criterion = nn.CrossEntropyLoss()\n",
    "    optimizer = torch.optim.Adam(modnet.parameters(), lr=learning_rate)\n",
    "    return modnet,criterion,optimizer"
   ]
  },
  {
   "cell_type": "code",
   "execution_count": 26,
   "metadata": {
    "collapsed": true
   },
   "outputs": [],
   "source": [
    "modnet, criterion, optimizer = reset_mod_model()"
   ]
  },
  {
   "cell_type": "markdown",
   "metadata": {},
   "source": [
    "Here we initialize the smaller model with the smaller weight matrices. "
   ]
  },
  {
   "cell_type": "code",
   "execution_count": 27,
   "metadata": {
    "collapsed": false
   },
   "outputs": [],
   "source": [
    "modnet.fc1.weight.data = (torch.FloatTensor(fc1_weight).cuda())\n",
    "modnet.fc2.weight.data = (torch.FloatTensor(fc2_weight).cuda())\n",
    "modnet.fc3.weight.data = (torch.FloatTensor(fc3_weight).cuda())"
   ]
  },
  {
   "cell_type": "code",
   "execution_count": 28,
   "metadata": {
    "collapsed": false
   },
   "outputs": [
    {
     "name": "stdout",
     "output_type": "stream",
     "text": [
      "Test Accuracy of the network on the 10000 test images: 96.65 %\n"
     ]
    }
   ],
   "source": [
    "testing(modnet)"
   ]
  },
  {
   "cell_type": "markdown",
   "metadata": {
    "collapsed": true
   },
   "source": [
    "### Excercise\n",
    "\n",
    "1. Retrain the smaller model and check if the performance improves.\n",
    "\n",
    "2. Using the l1 regularizer along with lo and li with further enhance sparsity. This might result in a even smaller model. Try it out!!"
   ]
  },
  {
   "cell_type": "code",
   "execution_count": null,
   "metadata": {
    "collapsed": true
   },
   "outputs": [],
   "source": []
  },
  {
   "cell_type": "markdown",
   "metadata": {},
   "source": [
    "### References\n",
    "\n",
    "1. https://arxiv.org/pdf/1606.07326.pdf"
   ]
  },
  {
   "cell_type": "code",
   "execution_count": null,
   "metadata": {
    "collapsed": true
   },
   "outputs": [],
   "source": []
  }
 ],
 "metadata": {
  "kernelspec": {
   "display_name": "Python [Root]",
   "language": "python",
   "name": "Python [Root]"
  },
  "language_info": {
   "codemirror_mode": {
    "name": "ipython",
    "version": 2
   },
   "file_extension": ".py",
   "mimetype": "text/x-python",
   "name": "python",
   "nbconvert_exporter": "python",
   "pygments_lexer": "ipython2",
   "version": "2.7.12"
  }
 },
 "nbformat": 4,
 "nbformat_minor": 0
}
