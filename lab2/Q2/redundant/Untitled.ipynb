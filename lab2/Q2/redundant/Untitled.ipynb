{
 "cells": [
  {
   "cell_type": "code",
   "execution_count": 1,
   "metadata": {
    "collapsed": false
   },
   "outputs": [],
   "source": [
    "import torch\n",
    "import torch.autograd as autograd\n",
    "import torch.nn as nn\n",
    "import torch.nn.functional as F\n",
    "x=autograd.Variable(torch.randn(50,1,32,100))\n"
   ]
  },
  {
   "cell_type": "code",
   "execution_count": 22,
   "metadata": {
    "collapsed": false
   },
   "outputs": [],
   "source": [
    "conv1 = nn.Conv2d(1, 64, 3)\n",
    "conv2 = nn.Conv2d(64, 64, 3)\n",
    "        "
   ]
  },
  {
   "cell_type": "code",
   "execution_count": 23,
   "metadata": {
    "collapsed": false
   },
   "outputs": [
    {
     "name": "stdout",
     "output_type": "stream",
     "text": [
      "('size of x in the beginning =', torch.Size([50, 1, 100, 32]))\n",
      "('size of x after conv1 and pooling =', torch.Size([50, 64, 49, 15]))\n",
      "('size of x after conv2 and pooling =', torch.Size([50, 64, 23, 6]))\n"
     ]
    }
   ],
   "source": [
    "print('size of x in the beginning =', x.size())\n",
    "x = F.max_pool2d(F.relu(conv1(x)), (2, 2))\n",
    "print('size of x after conv1 and pooling =', x.size())\n",
    "x = F.max_pool2d(F.relu(conv2(x)), 2)\n",
    "print('size of x after conv2 and pooling =', x.size())\n",
    "\n",
    "        "
   ]
  },
  {
   "cell_type": "code",
   "execution_count": null,
   "metadata": {
    "collapsed": true
   },
   "outputs": [],
   "source": []
  }
 ],
 "metadata": {
  "kernelspec": {
   "display_name": "Python 2",
   "language": "python",
   "name": "python2"
  },
  "language_info": {
   "codemirror_mode": {
    "name": "ipython",
    "version": 2
   },
   "file_extension": ".py",
   "mimetype": "text/x-python",
   "name": "python",
   "nbconvert_exporter": "python",
   "pygments_lexer": "ipython2",
   "version": "2.7.12"
  }
 },
 "nbformat": 4,
 "nbformat_minor": 0
}
